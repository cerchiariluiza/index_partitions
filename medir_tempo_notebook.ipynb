{
 "cells": [
  {
   "cell_type": "code",
   "execution_count": null,
   "id": "80745869",
   "metadata": {},
   "outputs": [],
   "source": [
    "spark"
   ]
  },
  {
   "cell_type": "code",
   "execution_count": null,
   "id": "08e0bfd1",
   "metadata": {},
   "outputs": [],
   "source": [
    "# com index"
   ]
  },
  {
   "cell_type": "code",
   "execution_count": null,
   "id": "63c225d3",
   "metadata": {},
   "outputs": [],
   "source": [
    "%%time\n",
    "%%sql\n",
    "SELECT count(*) FROM banco_bonus.tb_boletos_conversor WHERE partition_agencia = '1' and numero_digito_verificador <= '4'"
   ]
  },
  {
   "cell_type": "code",
   "execution_count": null,
   "id": "12634bd0",
   "metadata": {},
   "outputs": [],
   "source": [
    "# sem index"
   ]
  },
  {
   "cell_type": "code",
   "execution_count": null,
   "id": "51422ef1",
   "metadata": {},
   "outputs": [],
   "source": [
    "%%time\n",
    "%%sql\n",
    "SELECT count(*) FROM banco_bonus.tb_boletos_conversor WHERE partition_agencia = '1' and numero_digito_verificador <= '4'"
   ]
  }
 ],
 "metadata": {
  "kernelspec": {
   "display_name": "Sparkmagic (PySpark)",
   "language": "python",
   "name": "pysparkkernel"
  },
  "language_info": {
   "codemirror_mode": {
    "name": "python",
    "version": 3
   },
   "file_extension": ".py",
   "mimetype": "text/x-python",
   "name": "pyspark",
   "pygments_lexer": "python3"
  }
 },
 "nbformat": 4,
 "nbformat_minor": 5
}
